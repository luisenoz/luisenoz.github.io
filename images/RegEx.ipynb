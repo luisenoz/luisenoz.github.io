{
 "cells": [
  {
   "cell_type": "code",
   "execution_count": 1,
   "metadata": {},
   "outputs": [],
   "source": [
    "import re"
   ]
  },
  {
   "cell_type": "code",
   "execution_count": 2,
   "metadata": {},
   "outputs": [
    {
     "name": "stdout",
     "output_type": "stream",
     "text": [
      "Match!\n"
     ]
    }
   ],
   "source": [
    "# Ordinary characters are the simplest regular expressions. \n",
    "# They match themselves exactly and do not have a special meaning in their regular expression syntax.\n",
    "# Examples are 'A', 'a', 'X', '5'.\n",
    "\n",
    "# Simple exact matches:\n",
    "\n",
    "pattern = r\"Cookie\"\n",
    "sequence = 'Cookie'\n",
    "if re.match(pattern, sequence):\n",
    "    print(\"Match!\")\n",
    "else:\n",
    "    print(\"Not a match\")"
   ]
  },
  {
   "cell_type": "code",
   "execution_count": 3,
   "metadata": {},
   "outputs": [
    {
     "name": "stdout",
     "output_type": "stream",
     "text": [
      "Not a match\n"
     ]
    }
   ],
   "source": [
    "# The match() function returns a match object if the text matches the pattern. Otherwise, it returns None\n",
    "\n",
    "pattern = r\"Luis\"\n",
    "sequence = \"luIs\"\n",
    "if re.match(pattern, sequence):\n",
    "    print(\"Match!\")\n",
    "else:\n",
    "    print(\"Not a match\")"
   ]
  },
  {
   "cell_type": "markdown",
   "metadata": {},
   "source": [
    "The *r* at the start of the pattern Cookie is called a **raw string literal**. \n",
    "It changes how the string literal is interpreted. Such literals are stored as they appear.\n",
    "For example, \\ is just a backslash when prefixed with an *r* rather than being interpreted as an escape sequence. \n",
    "\n",
    "* We didn't actually need it for this example; however, it is a good practice to use it for consistency.*"
   ]
  },
  {
   "cell_type": "markdown",
   "metadata": {},
   "source": [
    "## Wild Card Characters: Special Characters\n",
    "\n",
    "Special characters are characters that do not match themselves as seen but have a special meaning when used in a regular expression.     \n",
    "They can be thought of as *reserved metacharacters* that denote something else and not what they look like."
   ]
  },
  {
   "cell_type": "markdown",
   "metadata": {},
   "source": [
    "### **.**      \n",
    "A period matches any single character, except the new line character."
   ]
  },
  {
   "cell_type": "code",
   "execution_count": 4,
   "metadata": {},
   "outputs": [
    {
     "data": {
      "text/plain": [
       "'Cookie'"
      ]
     },
     "execution_count": 4,
     "metadata": {},
     "output_type": "execute_result"
    }
   ],
   "source": [
    "re.search(r\"Co.k.e\", \"Cookie\").group()"
   ]
  },
  {
   "cell_type": "markdown",
   "metadata": {},
   "source": [
    "*The **search** function scan through the given string/sequence, looking for the first location where the regular expression produces a match.*\n",
    "\n",
    "*The **group** function returns the string matched by the re.*"
   ]
  },
  {
   "cell_type": "markdown",
   "metadata": {},
   "source": [
    "### **^**     \n",
    "A caret matches the start of the string."
   ]
  },
  {
   "cell_type": "code",
   "execution_count": 5,
   "metadata": {},
   "outputs": [
    {
     "data": {
      "text/plain": [
       "'Eat'"
      ]
     },
     "execution_count": 5,
     "metadata": {},
     "output_type": "execute_result"
    }
   ],
   "source": [
    "re.search(\"Eat\", \"Let's Eat Cake\").group()"
   ]
  },
  {
   "cell_type": "code",
   "execution_count": 6,
   "metadata": {},
   "outputs": [
    {
     "ename": "AttributeError",
     "evalue": "'NoneType' object has no attribute 'group'",
     "output_type": "error",
     "traceback": [
      "\u001b[0;31m---------------------------------------------------------------------------\u001b[0m",
      "\u001b[0;31mAttributeError\u001b[0m                            Traceback (most recent call last)",
      "\u001b[0;32m<ipython-input-6-480e2488d78f>\u001b[0m in \u001b[0;36m<module>\u001b[0;34m\u001b[0m\n\u001b[1;32m      1\u001b[0m \u001b[0;31m## However, the code below will not give the same result:\u001b[0m\u001b[0;34m\u001b[0m\u001b[0;34m\u001b[0m\u001b[0;34m\u001b[0m\u001b[0m\n\u001b[1;32m      2\u001b[0m \u001b[0;34m\u001b[0m\u001b[0m\n\u001b[0;32m----> 3\u001b[0;31m \u001b[0mre\u001b[0m\u001b[0;34m.\u001b[0m\u001b[0msearch\u001b[0m\u001b[0;34m(\u001b[0m\u001b[0;34mr'^eat'\u001b[0m\u001b[0;34m,\u001b[0m \u001b[0;34m\"Let's eat cake!\"\u001b[0m\u001b[0;34m)\u001b[0m\u001b[0;34m.\u001b[0m\u001b[0mgroup\u001b[0m\u001b[0;34m(\u001b[0m\u001b[0;34m)\u001b[0m\u001b[0;34m\u001b[0m\u001b[0;34m\u001b[0m\u001b[0m\n\u001b[0m",
      "\u001b[0;31mAttributeError\u001b[0m: 'NoneType' object has no attribute 'group'"
     ]
    }
   ],
   "source": [
    "## However, the code below will not give the same result:\n",
    "\n",
    "re.search(r'^eat', \"Let's eat cake!\").group()"
   ]
  },
  {
   "cell_type": "markdown",
   "metadata": {},
   "source": [
    "We get *AttributeError* because *re.search\" result was *None*, *(it didn't find the searched string at the begining)*,     \n",
    "so we're then calling *groups()* on *None*, which hasn't any methods.   \n"
   ]
  },
  {
   "cell_type": "markdown",
   "metadata": {},
   "source": [
    "### $\n",
    "It matches the end of the string.     \n",
    "Helpful if we want to make sure a document/sentence ends with certain characters."
   ]
  },
  {
   "cell_type": "code",
   "execution_count": 7,
   "metadata": {},
   "outputs": [
    {
     "data": {
      "text/plain": [
       "'cake'"
      ]
     },
     "execution_count": 7,
     "metadata": {},
     "output_type": "execute_result"
    }
   ],
   "source": [
    "re.search(r'cake$', \"Cake! Let's eat cake\" ).group()"
   ]
  },
  {
   "cell_type": "code",
   "execution_count": 8,
   "metadata": {},
   "outputs": [
    {
     "ename": "AttributeError",
     "evalue": "'NoneType' object has no attribute 'group'",
     "output_type": "error",
     "traceback": [
      "\u001b[0;31m---------------------------------------------------------------------------\u001b[0m",
      "\u001b[0;31mAttributeError\u001b[0m                            Traceback (most recent call last)",
      "\u001b[0;32m<ipython-input-8-5892ef686871>\u001b[0m in \u001b[0;36m<module>\u001b[0;34m\u001b[0m\n\u001b[1;32m      1\u001b[0m \u001b[0;31m## The search will return the NONE value and the group() an error if we tried this:\u001b[0m\u001b[0;34m\u001b[0m\u001b[0;34m\u001b[0m\u001b[0;34m\u001b[0m\u001b[0m\n\u001b[1;32m      2\u001b[0m \u001b[0;34m\u001b[0m\u001b[0m\n\u001b[0;32m----> 3\u001b[0;31m \u001b[0mre\u001b[0m\u001b[0;34m.\u001b[0m\u001b[0msearch\u001b[0m\u001b[0;34m(\u001b[0m\u001b[0;34mr'cake$'\u001b[0m\u001b[0;34m,\u001b[0m \u001b[0;34m\"Let's get some cake on our way home!\"\u001b[0m\u001b[0;34m)\u001b[0m\u001b[0;34m.\u001b[0m\u001b[0mgroup\u001b[0m\u001b[0;34m(\u001b[0m\u001b[0;34m)\u001b[0m\u001b[0;34m\u001b[0m\u001b[0;34m\u001b[0m\u001b[0m\n\u001b[0m",
      "\u001b[0;31mAttributeError\u001b[0m: 'NoneType' object has no attribute 'group'"
     ]
    }
   ],
   "source": [
    "## The search will return the NONE value and the group() an error if we tried this:\n",
    "\n",
    "re.search(r'cake$', \"Let's get some cake on our way home!\").group()"
   ]
  },
  {
   "cell_type": "markdown",
   "metadata": {},
   "source": [
    "###  [abc]\n",
    "It matches **a** or **b** or **c**.\n",
    "\n",
    "### [a-zA-Z0-9]\n",
    "It matches any letter from **(a to z)** or **(A to Z)** or **(0 to 9)**.\n",
    "\n",
    "*Characters that are not within a range can be matched by complementing the set.     \n",
    "On the other way around, if the first character of the set is ^, all the characters that are not in the set will be matched.*\n",
    "\n"
   ]
  },
  {
   "cell_type": "code",
   "execution_count": 9,
   "metadata": {},
   "outputs": [
    {
     "data": {
      "text/plain": [
       "'5'"
      ]
     },
     "execution_count": 9,
     "metadata": {},
     "output_type": "execute_result"
    }
   ],
   "source": [
    "re.search(r'[0-6]', 'Number: 5').group()"
   ]
  },
  {
   "cell_type": "code",
   "execution_count": 10,
   "metadata": {},
   "outputs": [
    {
     "data": {
      "text/plain": [
       "'Number: 0'"
      ]
     },
     "execution_count": 10,
     "metadata": {},
     "output_type": "execute_result"
    }
   ],
   "source": [
    "re.search(r'Number: [^5]', 'Number: 0').group()"
   ]
  },
  {
   "cell_type": "code",
   "execution_count": 11,
   "metadata": {},
   "outputs": [
    {
     "ename": "AttributeError",
     "evalue": "'NoneType' object has no attribute 'group'",
     "output_type": "error",
     "traceback": [
      "\u001b[0;31m---------------------------------------------------------------------------\u001b[0m",
      "\u001b[0;31mAttributeError\u001b[0m                            Traceback (most recent call last)",
      "\u001b[0;32m<ipython-input-11-504db4bc746c>\u001b[0m in \u001b[0;36m<module>\u001b[0;34m\u001b[0m\n\u001b[1;32m      1\u001b[0m \u001b[0;31m# This will not match and hence a NONE value will be returned\u001b[0m\u001b[0;34m\u001b[0m\u001b[0;34m\u001b[0m\u001b[0;34m\u001b[0m\u001b[0m\n\u001b[0;32m----> 2\u001b[0;31m \u001b[0mre\u001b[0m\u001b[0;34m.\u001b[0m\u001b[0msearch\u001b[0m\u001b[0;34m(\u001b[0m\u001b[0;34mr'Number: [^5]'\u001b[0m\u001b[0;34m,\u001b[0m \u001b[0;34m'Number: 5'\u001b[0m\u001b[0;34m)\u001b[0m\u001b[0;34m.\u001b[0m\u001b[0mgroup\u001b[0m\u001b[0;34m(\u001b[0m\u001b[0;34m)\u001b[0m\u001b[0;34m\u001b[0m\u001b[0;34m\u001b[0m\u001b[0m\n\u001b[0m",
      "\u001b[0;31mAttributeError\u001b[0m: 'NoneType' object has no attribute 'group'"
     ]
    }
   ],
   "source": [
    "# This will not match and hence a NONE value will be returned\n",
    "re.search(r'Number: [^5]', 'Number: 5').group()"
   ]
  },
  {
   "cell_type": "markdown",
   "metadata": {},
   "source": [
    "### / Backslash\n",
    " \n",
    "The most diverse metacharacter:\n",
    "\n",
    "- If the character following the backslash is a recognized escape character, then the special meaning of the term is taken (Scenario 1).\n",
    "- Else if the character following the \\ is not a recognized escape character, then the \\ is treated like any other character and passed through (Scenario 2). \n",
    "- \\ can be used in front of all the metacharacters to remove their special meaning (Scenario 3). \n"
   ]
  },
  {
   "cell_type": "code",
   "execution_count": 12,
   "metadata": {},
   "outputs": [
    {
     "data": {
      "text/plain": [
       "'Not a regular character'"
      ]
     },
     "execution_count": 12,
     "metadata": {},
     "output_type": "execute_result"
    }
   ],
   "source": [
    "## (Scenario 1) This treats '\\s' as an escape character, '\\s' defines a space\n",
    "\n",
    "re.search(r'Not a\\sregular character', \"Not a regular character\").group()"
   ]
  },
  {
   "cell_type": "code",
   "execution_count": 13,
   "metadata": {},
   "outputs": [
    {
     "data": {
      "text/plain": [
       "'Just a \\regular character'"
      ]
     },
     "execution_count": 13,
     "metadata": {},
     "output_type": "execute_result"
    }
   ],
   "source": [
    "## (Scenario 2) '\\' is treated as an ordinary character, because '\\r' is not a recognized escape character\n",
    "re.search(r'Just a \\regular character', \"Just a \\regular character\").group()"
   ]
  },
  {
   "cell_type": "code",
   "execution_count": 14,
   "metadata": {},
   "outputs": [
    {
     "data": {
      "text/plain": [
       "'Just a \\\\sregular character'"
      ]
     },
     "execution_count": 14,
     "metadata": {},
     "output_type": "execute_result"
    }
   ],
   "source": [
    "## (Scenario 3) '\\s' is escaped using an extra `\\` so its interpreted as a literal string '\\s'\n",
    "re.search(r'Just a \\\\sregular character', 'Just a \\sregular character' ).group()"
   ]
  },
  {
   "cell_type": "markdown",
   "metadata": {},
   "source": [
    "### There is a predefined set of special sequences that begin with ' \\ ' and are also very helpful when performing search and match "
   ]
  },
  {
   "cell_type": "markdown",
   "metadata": {},
   "source": [
    "### \\w - Lowercase 'w'.     \n",
    "Matches any single letter, digit, or underscore. \n",
    "\n",
    "### \\W - Uppercase 'W'.     \n",
    "Matches any character not part of \\w (lowercase w).\n"
   ]
  },
  {
   "cell_type": "code",
   "execution_count": 15,
   "metadata": {},
   "outputs": [
    {
     "name": "stdout",
     "output_type": "stream",
     "text": [
      "Lowercase w: Cookie\n"
     ]
    }
   ],
   "source": [
    "print(\"Lowercase w:\", re.search(r'Co\\wk\\we', 'Cookie').group())"
   ]
  },
  {
   "cell_type": "code",
   "execution_count": 16,
   "metadata": {},
   "outputs": [
    {
     "name": "stdout",
     "output_type": "stream",
     "text": [
      "Uppercase W: C@ke\n"
     ]
    }
   ],
   "source": [
    "## Matches any character except single letter, digit or underscore\n",
    "\n",
    "print(\"Uppercase W:\", re.search(r'C\\Wke', 'C@ke').group())"
   ]
  },
  {
   "cell_type": "code",
   "execution_count": 17,
   "metadata": {},
   "outputs": [
    {
     "name": "stdout",
     "output_type": "stream",
     "text": [
      "Uppercase W won't match, and return: None\n"
     ]
    }
   ],
   "source": [
    "## Uppercase W won't match single letter, digit\n",
    "\n",
    "print(\"Uppercase W won't match, and return:\", re.search(r'Co\\Wk\\We', 'Cookie'))"
   ]
  },
  {
   "cell_type": "markdown",
   "metadata": {},
   "source": [
    "### \\d - Lowercase d.     \n",
    "Matches decimal digit 0-9. \n",
    "\n",
    "### \\D - Uppercase d.     \n",
    "Matches any character that is not a decimal digit."
   ]
  },
  {
   "cell_type": "code",
   "execution_count": 18,
   "metadata": {},
   "outputs": [
    {
     "name": "stdout",
     "output_type": "stream",
     "text": [
      "How many cookies do you want?  100\n"
     ]
    }
   ],
   "source": [
    "# Example for \\d\n",
    "# The + symbol used after the \\d is used for repetition\n",
    "\n",
    "print(\"How many cookies do you want? \", re.search(r'\\d+', '100 cookies').group())"
   ]
  },
  {
   "cell_type": "markdown",
   "metadata": {},
   "source": [
    "### \\t - Lowercase t.     \n",
    "Matches tab.\n",
    "\n",
    "### \\n - Lowercase n.     \n",
    "Matches newline. \n",
    "\n",
    "### \\r - Lowercase r.     \n",
    "Matches return. \n",
    "\n",
    "### \\A - Uppercase a.     \n",
    "Matches only at the start of the string. Works across multiple lines as well. \n",
    "\n",
    "### \\Z - Uppercase z.     \n",
    "Matches only at the end of the string.     \n",
    "\n",
    "TIP: *\"^\" and \"\\A\" are effectively the same, and so are \"$\" and \"\\Z\". Except when dealing with MULTILINE mode.*\n",
    "\n",
    "### \\b - Lowercase b.     \n",
    "Matches only the beginning or end of the word. \n",
    "\n"
   ]
  },
  {
   "cell_type": "code",
   "execution_count": 19,
   "metadata": {},
   "outputs": [
    {
     "ename": "AttributeError",
     "evalue": "'NoneType' object has no attribute 'group'",
     "output_type": "error",
     "traceback": [
      "\u001b[0;31m---------------------------------------------------------------------------\u001b[0m",
      "\u001b[0;31mAttributeError\u001b[0m                            Traceback (most recent call last)",
      "\u001b[0;32m<ipython-input-19-ad279e1da895>\u001b[0m in \u001b[0;36m<module>\u001b[0;34m\u001b[0m\n\u001b[1;32m      1\u001b[0m \u001b[0;31m# Example for \\t\u001b[0m\u001b[0;34m\u001b[0m\u001b[0;34m\u001b[0m\u001b[0;34m\u001b[0m\u001b[0m\n\u001b[1;32m      2\u001b[0m \u001b[0;34m\u001b[0m\u001b[0m\n\u001b[0;32m----> 3\u001b[0;31m \u001b[0mprint\u001b[0m\u001b[0;34m(\u001b[0m\u001b[0;34m\"\\\\t (TAB) example: \"\u001b[0m\u001b[0;34m,\u001b[0m \u001b[0mre\u001b[0m\u001b[0;34m.\u001b[0m\u001b[0msearch\u001b[0m\u001b[0;34m(\u001b[0m\u001b[0;34mr'Eat\\tcake'\u001b[0m\u001b[0;34m,\u001b[0m \u001b[0;34m'Eat cake'\u001b[0m\u001b[0;34m)\u001b[0m\u001b[0;34m.\u001b[0m\u001b[0mgroup\u001b[0m\u001b[0;34m(\u001b[0m\u001b[0;34m)\u001b[0m\u001b[0;34m)\u001b[0m\u001b[0;34m\u001b[0m\u001b[0;34m\u001b[0m\u001b[0m\n\u001b[0m",
      "\u001b[0;31mAttributeError\u001b[0m: 'NoneType' object has no attribute 'group'"
     ]
    }
   ],
   "source": [
    "# Example for \\t\n",
    "\n",
    "print(\"\\\\t (TAB) example: \", re.search(r'Eat\\tcake', 'Eat cake').group())"
   ]
  },
  {
   "cell_type": "code",
   "execution_count": 20,
   "metadata": {},
   "outputs": [
    {
     "name": "stdout",
     "output_type": "stream",
     "text": [
      "\\b match gives:  Cookie\n"
     ]
    }
   ],
   "source": [
    "# Example for \\b\n",
    "\n",
    "print(\"\\\\b match gives: \",re.search(r'\\b[A-E]ookie', 'Cookie').group())"
   ]
  },
  {
   "cell_type": "markdown",
   "metadata": {},
   "source": [
    "## Repetitions\n",
    "\n",
    "If you are looking to find long patterns in a sequence, the *re* module handles repetitions using the following special characters:"
   ]
  },
  {
   "cell_type": "markdown",
   "metadata": {},
   "source": [
    "## +\n",
    "\n",
    "Checks if the preceding character appears one or more times starting from that position"
   ]
  },
  {
   "cell_type": "code",
   "execution_count": 21,
   "metadata": {},
   "outputs": [
    {
     "data": {
      "text/plain": [
       "'Coooookie'"
      ]
     },
     "execution_count": 21,
     "metadata": {},
     "output_type": "execute_result"
    }
   ],
   "source": [
    "re.search(r'Co+kie', 'Coooookie').group()"
   ]
  },
  {
   "cell_type": "markdown",
   "metadata": {},
   "source": [
    "## *\n",
    "\n",
    "Checks if the preceding character appears zero or more times starting from that position"
   ]
  },
  {
   "cell_type": "code",
   "execution_count": 22,
   "metadata": {},
   "outputs": [
    {
     "data": {
      "text/plain": [
       "'Cookie'"
      ]
     },
     "execution_count": 22,
     "metadata": {},
     "output_type": "execute_result"
    }
   ],
   "source": [
    "# Checks for any occurrence of a or o or both in the given sequence\n",
    "\n",
    "re.search(r'Ca*o*kie', 'Cookie').group()"
   ]
  },
  {
   "cell_type": "markdown",
   "metadata": {},
   "source": [
    "## ?\n",
    "\n",
    "Checks if the preceding character appears exactly zero or one time starting from that position"
   ]
  },
  {
   "cell_type": "code",
   "execution_count": 23,
   "metadata": {},
   "outputs": [
    {
     "data": {
      "text/plain": [
       "'Color'"
      ]
     },
     "execution_count": 23,
     "metadata": {},
     "output_type": "execute_result"
    }
   ],
   "source": [
    "# Checks for exactly zero or one occurrence of a or o or both in the given sequence\n",
    "\n",
    "re.search(r'Colou?r', 'Color').group()"
   ]
  },
  {
   "cell_type": "markdown",
   "metadata": {},
   "source": [
    "If you want to check for an exact number of sequence repetition,\n",
    "*(for example, checking the validity of a phone number in an application)*, re module handles this using the following regular expressions:\n",
    "\n",
    "- **{x}** - Repeat exactly x number of times. \n",
    "- **{x,}** - Repeat at least x times or more. \n",
    "- **{x, y}** - Repeat at least x times but no more than y times"
   ]
  },
  {
   "cell_type": "code",
   "execution_count": 24,
   "metadata": {},
   "outputs": [
    {
     "data": {
      "text/plain": [
       "'0987654321'"
      ]
     },
     "execution_count": 24,
     "metadata": {},
     "output_type": "execute_result"
    }
   ],
   "source": [
    "re.search(r'\\d{9,10}', '0987654321').group()"
   ]
  },
  {
   "cell_type": "markdown",
   "metadata": {},
   "source": [
    "## Grouping in Regular Expressions\n",
    "\n",
    "The ***group*** feature of regular expression allows us to pick up parts of the matching text.     \n",
    "Parts of a regular expression pattern bounded by parenthesis () are called *groups*.     \n",
    "The parenthesis does not change what the expression matches, but rather forms groups within the matched sequence. \n",
    "\n",
    "We have been using the *group()* function all along in this examples. The plain *match.group()* without any argument is still the whole matched text as usual."
   ]
  },
  {
   "cell_type": "code",
   "execution_count": 25,
   "metadata": {},
   "outputs": [
    {
     "name": "stdout",
     "output_type": "stream",
     "text": [
      "Email address: support@databoot.com\n",
      "Username: support\n",
      "Host: databoot.com\n"
     ]
    }
   ],
   "source": [
    "# Imagine you were validating email addresses and wanted to check the user name and host. \n",
    "# This is when you would want to create separate groups within your matched text.\n",
    "\n",
    "statement = 'Please contact us at: support@databoot.com'\n",
    "match = re.search(r'([\\w\\.-]+)@([\\w\\.-]+)', statement)\n",
    "if statement:\n",
    "  print(\"Email address:\", match.group()) # The whole matched text\n",
    "  print(\"Username:\", match.group(1)) # The username (group 1)\n",
    "  print(\"Host:\", match.group(2)) # The host (group 2)\n"
   ]
  },
  {
   "cell_type": "markdown",
   "metadata": {},
   "source": [
    "Another way of doing the same is with the usage of **<>** brackets instead. This will let you create **named groups**. Named groups will make your code more readable.     \n",
    "The syntax for creating named group is: **(?P<name>...)**. \n",
    "    - Replace the name part with the name you want to give to your group. \n",
    "    - The ... represent the rest of the matching syntax. \n",
    "    \n",
    "Using the same example as before:"
   ]
  },
  {
   "cell_type": "code",
   "execution_count": 26,
   "metadata": {},
   "outputs": [
    {
     "name": "stdout",
     "output_type": "stream",
     "text": [
      "Email address: support@databoot.com\n",
      "Username: support\n",
      "Host: databoot.com\n"
     ]
    }
   ],
   "source": [
    "statement = 'Please contact us at: support@databoot.com'\n",
    "match = re.search(r'(?P<email>(?P<username>[\\w\\.-]+)@(?P<host>[\\w\\.-]+))', statement)\n",
    "if statement:\n",
    "  print(\"Email address:\", match.group('email'))\n",
    "  print(\"Username:\", match.group('username'))\n",
    "  print(\"Host:\", match.group('host'))"
   ]
  },
  {
   "cell_type": "markdown",
   "metadata": {},
   "source": [
    "> **TIP:** We can always access the named groups using numbers instead of the name. \n",
    "But as the number of groups increases, it gets harder to handle them using numbers alone.     \n",
    "So, always make it a habit to use named groups instead."
   ]
  },
  {
   "cell_type": "markdown",
   "metadata": {},
   "source": [
    "## Greedy vs. Non Greedy Matching\n",
    "\n",
    "When a special character **matches as much of the search sequence (string) as possible**, it is said to be a **\"Greedy Match\"**.     \n",
    "It is the normal behavior of a regular expression, but sometimes this behavior is not desired:"
   ]
  },
  {
   "cell_type": "code",
   "execution_count": 27,
   "metadata": {},
   "outputs": [
    {
     "data": {
      "text/plain": [
       "'<h1>TITLE</h1>'"
      ]
     },
     "execution_count": 27,
     "metadata": {},
     "output_type": "execute_result"
    }
   ],
   "source": [
    "pattern = 'Cookie'\n",
    "\n",
    "sequence = 'Cake and cookie'\n",
    "\n",
    "heading = r'<h1>TITLE</h1>'\n",
    "\n",
    "re.match(r'<.*>' ,heading).group()"
   ]
  },
  {
   "cell_type": "markdown",
   "metadata": {},
   "source": [
    "The pattern **<.*>** matched the whole string, right up to the second occurrence of >.\n",
    "\n",
    "However, if you only wanted to match the first < h1 > tag, you could have used the **greedy qualifier *?** that matches as little text as possible.\n",
    "    \n",
    "Adding **?** after the qualifier makes it perform the match in a **non-greedy or minimal fashion**. That is, as few characters as possible will be matched.     \n",
    "When you run <.*>, you will only get a match with < h1 >."
   ]
  },
  {
   "cell_type": "code",
   "execution_count": 28,
   "metadata": {},
   "outputs": [
    {
     "data": {
      "text/plain": [
       "'<h1>'"
      ]
     },
     "execution_count": 28,
     "metadata": {},
     "output_type": "execute_result"
    }
   ],
   "source": [
    "heading = r'<h1>TITLE</h1>'\n",
    "\n",
    "re.match(r'<.*?>', heading).group()"
   ]
  },
  {
   "cell_type": "markdown",
   "metadata": {},
   "source": [
    "## Summary Table"
   ]
  },
  {
   "cell_type": "markdown",
   "metadata": {},
   "source": [
    "|**Character(s)**\t|**What it does**     |\n",
    "|:-----|:-----|\n",
    "|.\t|A period. Matches any single character except the newline character.|\n",
    "|^\t|A caret. Matches a pattern at the start of the string.|\n",
    "|\\A\t|Uppercase A. Matches only at the start of the string.|\n",
    "|$\t|Dollar sign. Matches the end of the string.|\n",
    "|\\Z\t|Uppercase Z. Matches only at the end of the string.|\n",
    "|[ ]|Matches the set of characters you specify within it.|\n",
    "|\\\t|∙ Following the backslash is a recognized escape character => the special meaning of the term is taken.|\n",
    "|\\  |∙ Else the backslash () is treated like any other character and passed through.|\n",
    "|\\  |∙ It can be used in front of all the metacharacters to remove their special meaning.|\n",
    "|\\w\t|Lowercase w. Matches any single letter, digit, or underscore.|\n",
    "|\\W\t|Uppercase W. Matches any character not part of \\w (lowercase w).|\n",
    "|\\s\t|Lowercase s. Matches a single whitespace character like: space, newline, tab, return.|\n",
    "|\\S\t|Uppercase S. Matches any character not part of \\s (lowercase s).|\n",
    "|\\d\t|Lowercase d. Matches decimal digit 0-9.|\n",
    "|\\D\t|Uppercase D. Matches any character that is not a decimal digit.|\n",
    "|\\t\t|Lowercase t. Matches tab.|\n",
    "|\\n\t|Lowercase n. Matches newline.|\n",
    "|\\r\t|Lowercase r. Matches return.|\n",
    "|\\b\t|Lowercase b. Matches only the beginning or end of the word.|\n",
    "|+\t|Checks if the preceding character appears one or more times.|\n",
    "|*\t|Checks if the preceding character appears zero or more times.|\n",
    "|?\t|∙ Checks if the preceding character appears exactly zero or one time.| \n",
    "|?  |∙ Specifies a non-greedy version of +, *|\n",
    "|{ }|Checks for an explicit number of times.|\n",
    "|( )|Creates a group when performing matches.|\n",
    "|< >|Creates a named group when performing matches."
   ]
  },
  {
   "cell_type": "markdown",
   "metadata": {},
   "source": [
    "> **TIP:** Although regular expressions are very powerful and helpful, be wary of long, confusing expressions that are hard for others, and also you to understand and maintain over time.\n"
   ]
  },
  {
   "cell_type": "markdown",
   "metadata": {},
   "source": [
    "## Functions provided by re"
   ]
  },
  {
   "cell_type": "markdown",
   "metadata": {},
   "source": [
    "**compile(pattern, flags=0)**\n",
    "\n",
    "Regular expressions are handled as strings by Python.     \n",
    "However, with **compile()**, you can compute a regular expression pattern into a **regular expression object**.\n",
    "\n",
    "When you need to use an expression several times in a single program, using *compile()* to save the resulting regular expression object for reuse is more efficient than saving it as a string.     \n",
    "This is because the compiled versions of the most recent patterns passed to compile() and the module-level matching functions are cached."
   ]
  },
  {
   "cell_type": "code",
   "execution_count": 29,
   "metadata": {},
   "outputs": [
    {
     "data": {
      "text/plain": [
       "'cookie'"
      ]
     },
     "execution_count": 29,
     "metadata": {},
     "output_type": "execute_result"
    }
   ],
   "source": [
    "pattern = re.compile(r\"cookie\")\n",
    "sequence = \"Cake and cookie\"\n",
    "pattern.search(sequence).group()"
   ]
  },
  {
   "cell_type": "code",
   "execution_count": 30,
   "metadata": {},
   "outputs": [
    {
     "data": {
      "text/plain": [
       "'cookie'"
      ]
     },
     "execution_count": 30,
     "metadata": {},
     "output_type": "execute_result"
    }
   ],
   "source": [
    "# This is equivalent to:\n",
    "re.search(pattern, sequence).group()"
   ]
  },
  {
   "cell_type": "markdown",
   "metadata": {},
   "source": [
    "**search(pattern, string, flags=0)**\n",
    "\n",
    "With this function, you scan through the given string/sequence, looking for the first location where the regular expression produces a match.     \n",
    "It returns a corresponding match object if found, else returns *None* if no position in the string matches the pattern.     \n",
    "Note that *None* is different from finding a zero-length match at some point in the string.\n"
   ]
  },
  {
   "cell_type": "code",
   "execution_count": 31,
   "metadata": {},
   "outputs": [
    {
     "data": {
      "text/plain": [
       "<re.Match object; span=(9, 15), match='cookie'>"
      ]
     },
     "execution_count": 31,
     "metadata": {},
     "output_type": "execute_result"
    }
   ],
   "source": [
    "pattern = \"cookie\"\n",
    "sequence = \"Cake and cookie\"\n",
    "\n",
    "re.search(pattern, sequence)"
   ]
  },
  {
   "cell_type": "markdown",
   "metadata": {},
   "source": [
    "**match(pattern, string, flags=0)**\n",
    "\n",
    "Returns a corresponding match object if zero or more characters at the beginning of string match the pattern.     \n",
    "Else it returns *None*, if the string does not match the given pattern."
   ]
  },
  {
   "cell_type": "code",
   "execution_count": 32,
   "metadata": {},
   "outputs": [
    {
     "name": "stdout",
     "output_type": "stream",
     "text": [
      "Sequence 1:  None\n",
      "Sequence 2:  C\n"
     ]
    }
   ],
   "source": [
    "pattern = \"C\"\n",
    "sequence1 = \"IceCream\"\n",
    "sequence2 = \"Cake\"\n",
    "\n",
    "# No match since \"C\" is not at the start of \"IceCream\"\n",
    "\n",
    "print(\"Sequence 1: \", re.match(pattern, sequence1))\n",
    "\n",
    "print(\"Sequence 2: \", re.match(pattern,sequence2).group())"
   ]
  },
  {
   "cell_type": "markdown",
   "metadata": {},
   "source": [
    "**search() versus match()**\n",
    "\n",
    "The **match()** function checks for a match **only at the beginning** of the string (by default), whereas the **search()** function checks for a match **anywhere in the string**.\n"
   ]
  },
  {
   "cell_type": "markdown",
   "metadata": {},
   "source": [
    "**findall(pattern, string, flags=0)**\n",
    "\n",
    "Finds all the possible matches in the entire sequence and returns them as a list of strings.     \n",
    "Each returned string represents one match."
   ]
  },
  {
   "cell_type": "code",
   "execution_count": 33,
   "metadata": {},
   "outputs": [
    {
     "name": "stdout",
     "output_type": "stream",
     "text": [
      "support@databoot.com\n",
      "xyz@databoot.com\n"
     ]
    }
   ],
   "source": [
    "statement = \"Please contact us at: support@databoot.com, xyz@databoot.com\"\n",
    "\n",
    "#'addresses' is a list that stores all the possible match\n",
    "\n",
    "addresses = re.findall(r'[\\w\\.-]+@[\\w\\.-]+', statement)\n",
    "for address in addresses:\n",
    "    print(address)"
   ]
  },
  {
   "cell_type": "markdown",
   "metadata": {},
   "source": [
    "**finditer(string, [position, end_position])**\n",
    "\n",
    "Similar to *findall()* - it finds all the possible matches in the entire sequence but returns regex match objects as an iterator.\n",
    "\n",
    "> **TIP:** finditer() might be an excellent choice when you want to have more information returned to you about your search. The returned regex match object holds not only the sequence that matched but also their positions in the original text."
   ]
  },
  {
   "cell_type": "code",
   "execution_count": 34,
   "metadata": {},
   "outputs": [
    {
     "name": "stdout",
     "output_type": "stream",
     "text": [
      "<re.Match object; span=(22, 42), match='support@databoot.com'>\n",
      "<re.Match object; span=(44, 60), match='xyz@databoot.com'>\n"
     ]
    }
   ],
   "source": [
    "statement = \"Please contact us at: support@databoot.com, xyz@databoot.com\"\n",
    "\n",
    "#'addresses' is a list that stores all the possible match\n",
    "\n",
    "addresses = re.finditer(r'[\\w\\.-]+@[\\w\\.-]+', statement)\n",
    "for address in addresses:\n",
    "    print(address)"
   ]
  },
  {
   "cell_type": "markdown",
   "metadata": {},
   "source": [
    "**sub(pattern, repl, string, count=0, flags=0)**\n",
    "\n",
    "**subn(pattern, repl, string, count=0)**\n",
    "\n",
    "*sub()* is the substitute function. It returns the string obtained by replacing or substituting the leftmost non-overlapping occurrences of pattern in string by the replacement *repl*. If the pattern is not found, then the string is returned unchanged.\n",
    "The *subn()* is similar to *sub()*. However, it returns a tuple containing the new string value and the number of replacements that were performed in the statement.\n"
   ]
  },
  {
   "cell_type": "code",
   "execution_count": 35,
   "metadata": {},
   "outputs": [
    {
     "name": "stdout",
     "output_type": "stream",
     "text": [
      "Please contact us at: support@databoot.com\n"
     ]
    }
   ],
   "source": [
    "statement = \"Please contact us at: xyz@databoot.com\"\n",
    "new_email_address = re.sub(r'([\\w\\.-]+)@([\\w\\.-]+)', r'support@databoot.com', statement)\n",
    "print(new_email_address)"
   ]
  },
  {
   "cell_type": "markdown",
   "metadata": {},
   "source": [
    "**split(string, [maxsplit = 0])**\n",
    "\n",
    "This splits the strings wherever the pattern matches and returns a list. If the optional argument ***maxsplit*** is nonzero, then the maximum 'maxsplit' number of splits are performed."
   ]
  },
  {
   "cell_type": "code",
   "execution_count": 36,
   "metadata": {},
   "outputs": [
    {
     "name": "stdout",
     "output_type": "stream",
     "text": [
      "['Please contact us at', ' xyz@databoot.com', ' support@databoot.com']\n"
     ]
    }
   ],
   "source": [
    "statement = \"Please contact us at: xyz@databoot.com, support@databoot.com\"\n",
    "pattern = re.compile(r'[:,]')\n",
    "\n",
    "address = pattern.split(statement)\n",
    "print(address)"
   ]
  },
  {
   "cell_type": "markdown",
   "metadata": {},
   "source": [
    "**start()** - Returns the starting index of the match. \n",
    "\n",
    "**end()** - Returns the index where the match ends. \n",
    "\n",
    "**span()** - Return a tuple containing the (start, end) positions of the match"
   ]
  },
  {
   "cell_type": "code",
   "execution_count": 37,
   "metadata": {},
   "outputs": [
    {
     "name": "stdout",
     "output_type": "stream",
     "text": [
      "Start index: 11\n",
      "End index: 17\n",
      "Tuple: (11, 17)\n"
     ]
    }
   ],
   "source": [
    "pattern = re.compile('COOKIE', re.IGNORECASE)\n",
    "match = pattern.search(\"I am not a cookie monster\")\n",
    "\n",
    "print(\"Start index:\", match.start())\n",
    "print(\"End index:\", match.end())\n",
    "print(\"Tuple:\", match.span())"
   ]
  },
  {
   "cell_type": "markdown",
   "metadata": {},
   "source": [
    "## Compilation Flags\n",
    "\n",
    "Expressions behavior can be modified by specifying a **flag** value.     \n",
    "You can add flags as an extra argument to many different functions that we have seen in this tutorial.     \n",
    "Some of the more useful ones are:\n"
   ]
  },
  {
   "cell_type": "markdown",
   "metadata": {},
   "source": [
    "**IGNORECASE (I)** - Allows case-insensitive matches.\n",
    "\n",
    "**DOTALL (S)** - Allows . to match any character, including newline.\n",
    "\n",
    "**MULTILINE (M)** - Allows start of string (^) and end of string ($) anchor to match newlines as well.\n",
    "\n",
    "**VERBOSE (X)** - Allows you to write whitespace and comments within a regular expression to make it more readable. "
   ]
  },
  {
   "cell_type": "code",
   "execution_count": 38,
   "metadata": {},
   "outputs": [
    {
     "name": "stdout",
     "output_type": "stream",
     "text": [
      "Address:  support@DataBoot.com\n",
      "Address:  xyz@DATABOOT.com\n"
     ]
    }
   ],
   "source": [
    "statement = \"Please contact us at: support@DataBoot.com, xyz@DATABOOT.com\"\n",
    "\n",
    "# Using the VERBOSE flag helps understand complex regular expressions\n",
    "\n",
    "pattern = re.compile(r\"\"\"\n",
    "[\\w\\.-]+ #First part\n",
    "@ #Matches @ sign within email addresses\n",
    "databoot.com #Domain\n",
    "\"\"\", re.X | re.I)\n",
    "\n",
    "addresses = re.findall(pattern, statement)                       \n",
    "for address in addresses:\n",
    "    print(\"Address: \", address)"
   ]
  },
  {
   "cell_type": "markdown",
   "metadata": {},
   "source": [
    "> **TIP**: We can also combine multiple flags by using *bitwise* OR */*.\n"
   ]
  },
  {
   "cell_type": "markdown",
   "metadata": {},
   "source": [
    "# CASE STUDY - Working with Regular Expressions"
   ]
  },
  {
   "cell_type": "code",
   "execution_count": 39,
   "metadata": {},
   "outputs": [],
   "source": [
    "import re\n",
    "import requests\n",
    "the_idiot_url = 'https://www.gutenberg.org/files/2638/2638-0.txt'\n",
    "\n",
    "def get_book(url):\n",
    "    # Sends a http request to get the text from project Gutenberg\n",
    "    raw = requests.get(url).text\n",
    "    # Discards the metadata from the beginning of the book\n",
    "    start = re.search(r\"\\*\\*\\* START OF THIS PROJECT GUTENBERG EBOOK .* \\*\\*\\*\",raw ).end()\n",
    "    # Discards the text starting Part 2 of the book\n",
    "    stop = re.search(r\"II\", raw).start()\n",
    "    # Keeps the relevant text\n",
    "    text = raw[start:stop]\n",
    "    return text\n",
    "\n",
    "def preprocess(sentence):\n",
    "    return re.sub('[^A-Za-z0-9.]+' , ' ', sentence).lower()\n",
    "\n",
    "book = get_book(the_idiot_url)\n",
    "processed_book = preprocess(book)\n",
    "#print(processed_book)"
   ]
  },
  {
   "cell_type": "code",
   "execution_count": 40,
   "metadata": {},
   "outputs": [
    {
     "data": {
      "text/plain": [
       "302"
      ]
     },
     "execution_count": 40,
     "metadata": {},
     "output_type": "execute_result"
    }
   ],
   "source": [
    "# Exercise I: \n",
    "# Find the number of the pronoun \"the\" in the corpus. Hint: Use the len() function.\n",
    "\n",
    "len(re.findall(r\"the\", processed_book))"
   ]
  },
  {
   "cell_type": "code",
   "execution_count": 41,
   "metadata": {},
   "outputs": [],
   "source": [
    "# Exercise II: \n",
    "# Try to convert every single stand-alone instance of 'i' to 'I' in the corpus. \n",
    "# Make sure not to change the 'i' occurring within a word:\n",
    "\n",
    "\n",
    "processed_book = re.sub(r'\\si\\s', \" I \", processed_book)\n",
    "#print(processed_book)\n",
    "       "
   ]
  },
  {
   "cell_type": "code",
   "execution_count": 45,
   "metadata": {},
   "outputs": [
    {
     "data": {
      "text/plain": [
       "0"
      ]
     },
     "execution_count": 45,
     "metadata": {},
     "output_type": "execute_result"
    }
   ],
   "source": [
    "# Exercise III: \n",
    "# Find the number of times anyone was quoted (\"\") in the corpus.\n",
    "\n",
    "len(re.findall(r'\\”', book))\n"
   ]
  },
  {
   "cell_type": "code",
   "execution_count": 47,
   "metadata": {},
   "outputs": [
    {
     "data": {
      "text/plain": [
       "['ironical--it',\n",
       " 'malicious--smile',\n",
       " 'fur--or',\n",
       " 'astrachan--overcoat',\n",
       " 'it--the',\n",
       " 'Italy--was',\n",
       " 'malady--a',\n",
       " 'money--and',\n",
       " 'little--to',\n",
       " 'No--Mr',\n",
       " 'is--where',\n",
       " 'I--I',\n",
       " 'I--â',\n",
       " 'crime--we',\n",
       " 'or--judge',\n",
       " 'gaiters--still--if',\n",
       " 'through--well',\n",
       " 'say--through',\n",
       " 'however--and',\n",
       " 'Epanchin--oh',\n",
       " 'too--at',\n",
       " 'was--and',\n",
       " 'Andreevitch--that',\n",
       " 'everyone--that',\n",
       " 'reduce--or',\n",
       " 'raise--to',\n",
       " 'listen--and',\n",
       " 'history--but',\n",
       " 'individual--one',\n",
       " 'yes--I',\n",
       " 'but--â',\n",
       " 't--not',\n",
       " 'me--then',\n",
       " 'perhaps--â',\n",
       " 'Yes--those',\n",
       " 'me--is',\n",
       " 'servility--if',\n",
       " 'Rogojin--hereditary',\n",
       " 'citizen--who',\n",
       " 'least--goodness',\n",
       " 'memory--but',\n",
       " 'latter--since',\n",
       " 'Rogojin--hung',\n",
       " 'him--I',\n",
       " 'anything--sheâ',\n",
       " 'old--and',\n",
       " 'you--scarecrow',\n",
       " 'certainly--certainly',\n",
       " 'father--I',\n",
       " 'Barashkoff--I',\n",
       " 'see--and',\n",
       " 'everything--Lebedeff',\n",
       " 'about--heâ',\n",
       " 'now--I',\n",
       " 'Lihachof--â',\n",
       " 'Zaleshoff--looking',\n",
       " 'old--fifty',\n",
       " 'so--and',\n",
       " 'this--do',\n",
       " 'day--not',\n",
       " 'that--â',\n",
       " 'do--by',\n",
       " 'know--my',\n",
       " 'illness--I',\n",
       " 'well--here',\n",
       " 'fellow--you']"
      ]
     },
     "execution_count": 47,
     "metadata": {},
     "output_type": "execute_result"
    }
   ],
   "source": [
    "# Exercise IV: What are the words connected by '--' in the corpus? \n",
    "\n",
    "re.findall(r'\\w+(?:--\\w+)+', book)"
   ]
  },
  {
   "cell_type": "markdown",
   "metadata": {},
   "source": [
    "- \\w+ any single letter, digit or underscore, one or more times.\n",
    "- ?:  non greedy version of + *(not sure about this)*\n",
    "- --  the chonector\n",
    "- \\w+ any single letter, digit or underscore, one or more times."
   ]
  },
  {
   "cell_type": "code",
   "execution_count": null,
   "metadata": {},
   "outputs": [],
   "source": []
  }
 ],
 "metadata": {
  "kernelspec": {
   "display_name": "Python 3",
   "language": "python",
   "name": "python3"
  },
  "language_info": {
   "codemirror_mode": {
    "name": "ipython",
    "version": 3
   },
   "file_extension": ".py",
   "mimetype": "text/x-python",
   "name": "python",
   "nbconvert_exporter": "python",
   "pygments_lexer": "ipython3",
   "version": "3.8.3"
  }
 },
 "nbformat": 4,
 "nbformat_minor": 4
}
